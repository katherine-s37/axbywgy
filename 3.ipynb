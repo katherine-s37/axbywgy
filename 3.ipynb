{
 "cells": [
  {
   "cell_type": "code",
   "execution_count": 1,
   "id": "45ac1f35",
   "metadata": {},
   "outputs": [],
   "source": [
    "#显著基因聚类\n",
    "\n",
    "import pandas as pd"
   ]
  },
  {
   "cell_type": "code",
   "execution_count": 4,
   "id": "f32152a1",
   "metadata": {},
   "outputs": [],
   "source": [
    "data_1037=pd.read_excel(\"./9.1数据处理.xlsx\",sheet_name=\"1307-显著基因\")"
   ]
  },
  {
   "cell_type": "code",
   "execution_count": 5,
   "id": "8a5cbe2c",
   "metadata": {},
   "outputs": [],
   "source": [
    "data_cluster=pd.read_excel(\"./data_cluster.xlsx\")"
   ]
  },
  {
   "cell_type": "code",
   "execution_count": 9,
   "id": "af29c2c1",
   "metadata": {},
   "outputs": [],
   "source": [
    "data=data_1037.merge(data_cluster,on=\"id\",how='left')"
   ]
  },
  {
   "cell_type": "code",
   "execution_count": 12,
   "id": "5adf5644",
   "metadata": {},
   "outputs": [],
   "source": [
    "data.to_excel(\"显著基因聚类.xlsx\",index=None)"
   ]
  },
  {
   "cell_type": "code",
   "execution_count": 13,
   "id": "80dcf715",
   "metadata": {},
   "outputs": [
    {
     "data": {
      "text/plain": [
       "(1307, 6)"
      ]
     },
     "execution_count": 13,
     "metadata": {},
     "output_type": "execute_result"
    }
   ],
   "source": [
    "data.shape"
   ]
  },
  {
   "cell_type": "code",
   "execution_count": 17,
   "id": "0178242c",
   "metadata": {},
   "outputs": [],
   "source": [
    "#熵权法\n",
    "\n",
    "def entropy(matrix):\n",
    "    n = matrix.shape[0]\n",
    "    p = matrix / np.sum(matrix, axis=0)  # 计算归一化概率\n",
    "    entropy = -np.sum(p * np.log2(p), axis=0) / np.log2(n)  # 计算熵值\n",
    "    return entropy"
   ]
  },
  {
   "cell_type": "code",
   "execution_count": 34,
   "id": "bccdd107",
   "metadata": {},
   "outputs": [],
   "source": [
    "data_entropy=pd.read_excel(\"./9.1数据处理.xlsx\",sheet_name=\"熵权法\")"
   ]
  },
  {
   "cell_type": "code",
   "execution_count": 35,
   "id": "ef9c848a",
   "metadata": {},
   "outputs": [],
   "source": [
    "data_entropy=data_entropy.drop(\"id\",axis=1)"
   ]
  },
  {
   "cell_type": "code",
   "execution_count": 36,
   "id": "7f3fa65b",
   "metadata": {},
   "outputs": [],
   "source": [
    "#归一化\n",
    "import numpy as np\n",
    " \n",
    "def normalize(matrix):\n",
    "    mins = np.min(matrix, axis=0)\n",
    "    maxs = np.max(matrix, axis=0)\n",
    "    return (matrix - mins) / (maxs - mins)\n",
    " \n",
    "normalized_data_entropy = normalize(data_entropy)"
   ]
  },
  {
   "cell_type": "code",
   "execution_count": 40,
   "id": "c7beac71",
   "metadata": {},
   "outputs": [],
   "source": [
    "normalized_data_entropy.to_excel(\"./9.1_数据处理.xlsx\",index=None)"
   ]
  },
  {
   "cell_type": "code",
   "execution_count": 21,
   "id": "a7168ad3",
   "metadata": {},
   "outputs": [],
   "source": [
    "import numpy as np"
   ]
  },
  {
   "cell_type": "code",
   "execution_count": null,
   "id": "92a46900",
   "metadata": {},
   "outputs": [],
   "source": []
  },
  {
   "cell_type": "code",
   "execution_count": 37,
   "id": "e7cfb994",
   "metadata": {},
   "outputs": [
    {
     "name": "stderr",
     "output_type": "stream",
     "text": [
      "/Users/sunqian/anaconda3/envs/ICR/lib/python3.10/site-packages/pandas/core/internals/blocks.py:329: RuntimeWarning: divide by zero encountered in log2\n",
      "  result = func(self.values, **kwargs)\n"
     ]
    }
   ],
   "source": [
    "entropies=entropy(normalized_data_entropy)"
   ]
  },
  {
   "cell_type": "code",
   "execution_count": 38,
   "id": "e591f5be",
   "metadata": {},
   "outputs": [],
   "source": [
    "def weight(entropies):\n",
    "    weights = (1 - entropies) / np.sum(1 - entropies)\n",
    "    return weights\n",
    " \n",
    "weights = weight(entropies)"
   ]
  },
  {
   "cell_type": "code",
   "execution_count": 39,
   "id": "788203d7",
   "metadata": {},
   "outputs": [
    {
     "name": "stdout",
     "output_type": "stream",
     "text": [
      "指标权重： A_    0.105132\n",
      "B_    0.781554\n",
      "C_    0.113314\n",
      "dtype: float64\n"
     ]
    }
   ],
   "source": [
    "print(\"指标权重：\", weights)\n",
    "#输出每个指标的权重值。"
   ]
  },
  {
   "cell_type": "code",
   "execution_count": 42,
   "id": "4f5ab8e0",
   "metadata": {},
   "outputs": [],
   "source": [
    "#得分排序\n",
    "data_1037=pd.read_excel(\"./9.1数据处理.xlsx\",sheet_name=\"1307-显著基因\")\n",
    "data_9=pd.read_excel(\"./9.1_数据处理.xlsx\")\n",
    "data=data_1037.merge(data_9,on=\"id\",how='left')"
   ]
  },
  {
   "cell_type": "code",
   "execution_count": 43,
   "id": "730a0fbc",
   "metadata": {},
   "outputs": [
    {
     "data": {
      "text/html": [
       "<div>\n",
       "<style scoped>\n",
       "    .dataframe tbody tr th:only-of-type {\n",
       "        vertical-align: middle;\n",
       "    }\n",
       "\n",
       "    .dataframe tbody tr th {\n",
       "        vertical-align: top;\n",
       "    }\n",
       "\n",
       "    .dataframe thead th {\n",
       "        text-align: right;\n",
       "    }\n",
       "</style>\n",
       "<table border=\"1\" class=\"dataframe\">\n",
       "  <thead>\n",
       "    <tr style=\"text-align: right;\">\n",
       "      <th></th>\n",
       "      <th>id</th>\n",
       "      <th>A_</th>\n",
       "      <th>B_</th>\n",
       "      <th>C_</th>\n",
       "      <th>Unnamed: 4</th>\n",
       "      <th>排序号</th>\n",
       "      <th>Unnamed: 6</th>\n",
       "      <th>Unnamed: 7</th>\n",
       "      <th>Unnamed: 8</th>\n",
       "      <th>Unnamed: 9</th>\n",
       "      <th>Unnamed: 10</th>\n",
       "      <th>Unnamed: 11</th>\n",
       "    </tr>\n",
       "  </thead>\n",
       "  <tbody>\n",
       "    <tr>\n",
       "      <th>0</th>\n",
       "      <td>ENSDARG00000000563</td>\n",
       "      <td>0.647579</td>\n",
       "      <td>0.176766</td>\n",
       "      <td>0.750512</td>\n",
       "      <td>0.291277</td>\n",
       "      <td>411</td>\n",
       "      <td>NaN</td>\n",
       "      <td>NaN</td>\n",
       "      <td>NaN</td>\n",
       "      <td>NaN</td>\n",
       "      <td>NaN</td>\n",
       "      <td>NaN</td>\n",
       "    </tr>\n",
       "    <tr>\n",
       "      <th>1</th>\n",
       "      <td>ENSDARG00000000887</td>\n",
       "      <td>0.647258</td>\n",
       "      <td>0.176485</td>\n",
       "      <td>0.749374</td>\n",
       "      <td>0.290895</td>\n",
       "      <td>1811</td>\n",
       "      <td>NaN</td>\n",
       "      <td>NaN</td>\n",
       "      <td>NaN</td>\n",
       "      <td>NaN</td>\n",
       "      <td>NaN</td>\n",
       "      <td>NaN</td>\n",
       "    </tr>\n",
       "    <tr>\n",
       "      <th>2</th>\n",
       "      <td>ENSDARG00000001431</td>\n",
       "      <td>0.657186</td>\n",
       "      <td>0.173847</td>\n",
       "      <td>0.768211</td>\n",
       "      <td>0.292011</td>\n",
       "      <td>200</td>\n",
       "      <td>NaN</td>\n",
       "      <td>NaN</td>\n",
       "      <td>NaN</td>\n",
       "      <td>NaN</td>\n",
       "      <td>NaN</td>\n",
       "      <td>NaN</td>\n",
       "    </tr>\n",
       "    <tr>\n",
       "      <th>3</th>\n",
       "      <td>ENSDARG00000001656</td>\n",
       "      <td>0.646825</td>\n",
       "      <td>0.176543</td>\n",
       "      <td>0.749035</td>\n",
       "      <td>0.290856</td>\n",
       "      <td>4792</td>\n",
       "      <td>NaN</td>\n",
       "      <td>NaN</td>\n",
       "      <td>NaN</td>\n",
       "      <td>NaN</td>\n",
       "      <td>NaN</td>\n",
       "      <td>NaN</td>\n",
       "    </tr>\n",
       "    <tr>\n",
       "      <th>4</th>\n",
       "      <td>ENSDARG00000001882</td>\n",
       "      <td>0.647239</td>\n",
       "      <td>0.176503</td>\n",
       "      <td>0.749413</td>\n",
       "      <td>0.290911</td>\n",
       "      <td>1468</td>\n",
       "      <td>NaN</td>\n",
       "      <td>NaN</td>\n",
       "      <td>NaN</td>\n",
       "      <td>NaN</td>\n",
       "      <td>NaN</td>\n",
       "      <td>NaN</td>\n",
       "    </tr>\n",
       "    <tr>\n",
       "      <th>...</th>\n",
       "      <td>...</td>\n",
       "      <td>...</td>\n",
       "      <td>...</td>\n",
       "      <td>...</td>\n",
       "      <td>...</td>\n",
       "      <td>...</td>\n",
       "      <td>...</td>\n",
       "      <td>...</td>\n",
       "      <td>...</td>\n",
       "      <td>...</td>\n",
       "      <td>...</td>\n",
       "      <td>...</td>\n",
       "    </tr>\n",
       "    <tr>\n",
       "      <th>1302</th>\n",
       "      <td>XLOC_031818</td>\n",
       "      <td>0.647139</td>\n",
       "      <td>0.176531</td>\n",
       "      <td>0.749441</td>\n",
       "      <td>0.290925</td>\n",
       "      <td>1276</td>\n",
       "      <td>NaN</td>\n",
       "      <td>NaN</td>\n",
       "      <td>NaN</td>\n",
       "      <td>NaN</td>\n",
       "      <td>NaN</td>\n",
       "      <td>NaN</td>\n",
       "    </tr>\n",
       "    <tr>\n",
       "      <th>1303</th>\n",
       "      <td>XLOC_031986</td>\n",
       "      <td>0.646944</td>\n",
       "      <td>0.176531</td>\n",
       "      <td>0.749111</td>\n",
       "      <td>0.290867</td>\n",
       "      <td>3100</td>\n",
       "      <td>NaN</td>\n",
       "      <td>NaN</td>\n",
       "      <td>NaN</td>\n",
       "      <td>NaN</td>\n",
       "      <td>NaN</td>\n",
       "      <td>NaN</td>\n",
       "    </tr>\n",
       "    <tr>\n",
       "      <th>1304</th>\n",
       "      <td>XLOC_032112</td>\n",
       "      <td>0.646918</td>\n",
       "      <td>0.176523</td>\n",
       "      <td>0.749243</td>\n",
       "      <td>0.290874</td>\n",
       "      <td>2594</td>\n",
       "      <td>NaN</td>\n",
       "      <td>NaN</td>\n",
       "      <td>NaN</td>\n",
       "      <td>NaN</td>\n",
       "      <td>NaN</td>\n",
       "      <td>NaN</td>\n",
       "    </tr>\n",
       "    <tr>\n",
       "      <th>1305</th>\n",
       "      <td>XLOC_032563</td>\n",
       "      <td>0.646968</td>\n",
       "      <td>0.176551</td>\n",
       "      <td>0.749132</td>\n",
       "      <td>0.290888</td>\n",
       "      <td>1955</td>\n",
       "      <td>NaN</td>\n",
       "      <td>NaN</td>\n",
       "      <td>NaN</td>\n",
       "      <td>NaN</td>\n",
       "      <td>NaN</td>\n",
       "      <td>NaN</td>\n",
       "    </tr>\n",
       "    <tr>\n",
       "      <th>1306</th>\n",
       "      <td>XLOC_033125</td>\n",
       "      <td>0.647030</td>\n",
       "      <td>0.176507</td>\n",
       "      <td>0.749163</td>\n",
       "      <td>0.290864</td>\n",
       "      <td>3471</td>\n",
       "      <td>NaN</td>\n",
       "      <td>NaN</td>\n",
       "      <td>NaN</td>\n",
       "      <td>NaN</td>\n",
       "      <td>NaN</td>\n",
       "      <td>NaN</td>\n",
       "    </tr>\n",
       "  </tbody>\n",
       "</table>\n",
       "<p>1307 rows × 12 columns</p>\n",
       "</div>"
      ],
      "text/plain": [
       "                      id        A_        B_        C_  Unnamed: 4   排序号  \\\n",
       "0     ENSDARG00000000563  0.647579  0.176766  0.750512    0.291277   411   \n",
       "1     ENSDARG00000000887  0.647258  0.176485  0.749374    0.290895  1811   \n",
       "2     ENSDARG00000001431  0.657186  0.173847  0.768211    0.292011   200   \n",
       "3     ENSDARG00000001656  0.646825  0.176543  0.749035    0.290856  4792   \n",
       "4     ENSDARG00000001882  0.647239  0.176503  0.749413    0.290911  1468   \n",
       "...                  ...       ...       ...       ...         ...   ...   \n",
       "1302         XLOC_031818  0.647139  0.176531  0.749441    0.290925  1276   \n",
       "1303         XLOC_031986  0.646944  0.176531  0.749111    0.290867  3100   \n",
       "1304         XLOC_032112  0.646918  0.176523  0.749243    0.290874  2594   \n",
       "1305         XLOC_032563  0.646968  0.176551  0.749132    0.290888  1955   \n",
       "1306         XLOC_033125  0.647030  0.176507  0.749163    0.290864  3471   \n",
       "\n",
       "      Unnamed: 6  Unnamed: 7  Unnamed: 8  Unnamed: 9 Unnamed: 10  Unnamed: 11  \n",
       "0            NaN         NaN         NaN         NaN         NaN          NaN  \n",
       "1            NaN         NaN         NaN         NaN         NaN          NaN  \n",
       "2            NaN         NaN         NaN         NaN         NaN          NaN  \n",
       "3            NaN         NaN         NaN         NaN         NaN          NaN  \n",
       "4            NaN         NaN         NaN         NaN         NaN          NaN  \n",
       "...          ...         ...         ...         ...         ...          ...  \n",
       "1302         NaN         NaN         NaN         NaN         NaN          NaN  \n",
       "1303         NaN         NaN         NaN         NaN         NaN          NaN  \n",
       "1304         NaN         NaN         NaN         NaN         NaN          NaN  \n",
       "1305         NaN         NaN         NaN         NaN         NaN          NaN  \n",
       "1306         NaN         NaN         NaN         NaN         NaN          NaN  \n",
       "\n",
       "[1307 rows x 12 columns]"
      ]
     },
     "execution_count": 43,
     "metadata": {},
     "output_type": "execute_result"
    }
   ],
   "source": [
    "data"
   ]
  },
  {
   "cell_type": "code",
   "execution_count": 44,
   "id": "cd3c24c2",
   "metadata": {},
   "outputs": [],
   "source": [
    "data.to_excel(\"final.xlsx\",index=None)"
   ]
  },
  {
   "cell_type": "code",
   "execution_count": null,
   "id": "cae19b05",
   "metadata": {},
   "outputs": [],
   "source": []
  }
 ],
 "metadata": {
  "kernelspec": {
   "display_name": "Python 3 (ipykernel)",
   "language": "python",
   "name": "python3"
  },
  "language_info": {
   "codemirror_mode": {
    "name": "ipython",
    "version": 3
   },
   "file_extension": ".py",
   "mimetype": "text/x-python",
   "name": "python",
   "nbconvert_exporter": "python",
   "pygments_lexer": "ipython3",
   "version": "3.10.9"
  }
 },
 "nbformat": 4,
 "nbformat_minor": 5
}
