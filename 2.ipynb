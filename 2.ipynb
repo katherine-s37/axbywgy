{
 "cells": [
  {
   "cell_type": "code",
   "execution_count": 1,
   "id": "cfb11370",
   "metadata": {},
   "outputs": [],
   "source": [
    "import pandas as pd"
   ]
  },
  {
   "cell_type": "code",
   "execution_count": 17,
   "id": "cf026040",
   "metadata": {},
   "outputs": [],
   "source": [
    "data=pd.read_excel('./8.31数据处理.xlsx')"
   ]
  },
  {
   "cell_type": "code",
   "execution_count": 4,
   "id": "de653631",
   "metadata": {},
   "outputs": [
    {
     "name": "stdout",
     "output_type": "stream",
     "text": [
      "Looking in indexes: https://pypi.tuna.tsinghua.edu.cn/simple\n",
      "Collecting openpyxl\n",
      "  Downloading https://pypi.tuna.tsinghua.edu.cn/packages/6a/94/a59521de836ef0da54aaf50da6c4da8fb4072fb3053fa71f052fd9399e7a/openpyxl-3.1.2-py2.py3-none-any.whl (249 kB)\n",
      "\u001b[2K     \u001b[90m━━━━━━━━━━━━━━━━━━━━━━━━━━━━━━━━━━━━━━━\u001b[0m \u001b[32m250.0/250.0 kB\u001b[0m \u001b[31m1.6 MB/s\u001b[0m eta \u001b[36m0:00:00\u001b[0ma \u001b[36m0:00:01\u001b[0m\n",
      "\u001b[?25hCollecting et-xmlfile (from openpyxl)\n",
      "  Downloading https://pypi.tuna.tsinghua.edu.cn/packages/96/c2/3dd434b0108730014f1b96fd286040dc3bcb70066346f7e01ec2ac95865f/et_xmlfile-1.1.0-py3-none-any.whl (4.7 kB)\n",
      "Installing collected packages: et-xmlfile, openpyxl\n",
      "Successfully installed et-xmlfile-1.1.0 openpyxl-3.1.2\n"
     ]
    }
   ],
   "source": [
    "!pip install openpyxl -i https://pypi.tuna.tsinghua.edu.cn/simple"
   ]
  },
  {
   "cell_type": "code",
   "execution_count": 18,
   "id": "b4e4b3ea",
   "metadata": {},
   "outputs": [],
   "source": [
    "data_=data.copy()\n",
    "data_=data_.T"
   ]
  },
  {
   "cell_type": "code",
   "execution_count": 20,
   "id": "a8efc544",
   "metadata": {},
   "outputs": [],
   "source": [
    "data_=data_.drop([\"id\"],axis=0)"
   ]
  },
  {
   "cell_type": "code",
   "execution_count": 13,
   "id": "53455898",
   "metadata": {},
   "outputs": [],
   "source": [
    "#归一化模块倒入\n",
    "from sklearn.preprocessing import StandardScaler,MinMaxScaler"
   ]
  },
  {
   "cell_type": "code",
   "execution_count": 21,
   "id": "a0b51928",
   "metadata": {},
   "outputs": [],
   "source": [
    "#按行归一化\n",
    "bzh=MinMaxScaler()\n",
    "data_=bzh.fit_transform(data_)"
   ]
  },
  {
   "cell_type": "code",
   "execution_count": 24,
   "id": "9e3c1223",
   "metadata": {},
   "outputs": [
    {
     "data": {
      "text/plain": [
       "array([[1.        , 0.91509434, 0.        , 0.8490566 ],\n",
       "       [0.57438017, 0.        , 1.        , 0.24586777],\n",
       "       [1.        , 0.        , 0.44253979, 0.00542242],\n",
       "       ...,\n",
       "       [1.        , 0.        , 0.2675367 , 0.02555737],\n",
       "       [0.33138402, 1.        , 0.        , 0.58187135],\n",
       "       [0.51755027, 0.        , 1.        , 0.07513711]])"
      ]
     },
     "execution_count": 24,
     "metadata": {},
     "output_type": "execute_result"
    }
   ],
   "source": [
    "data_.T"
   ]
  },
  {
   "cell_type": "code",
   "execution_count": 25,
   "id": "0aa775a2",
   "metadata": {},
   "outputs": [],
   "source": [
    "data[[\"Q\",\"A\",\"B\",\"C\"]]=data_.T"
   ]
  },
  {
   "cell_type": "code",
   "execution_count": 26,
   "id": "acfc10a7",
   "metadata": {},
   "outputs": [
    {
     "data": {
      "text/html": [
       "<div>\n",
       "<style scoped>\n",
       "    .dataframe tbody tr th:only-of-type {\n",
       "        vertical-align: middle;\n",
       "    }\n",
       "\n",
       "    .dataframe tbody tr th {\n",
       "        vertical-align: top;\n",
       "    }\n",
       "\n",
       "    .dataframe thead th {\n",
       "        text-align: right;\n",
       "    }\n",
       "</style>\n",
       "<table border=\"1\" class=\"dataframe\">\n",
       "  <thead>\n",
       "    <tr style=\"text-align: right;\">\n",
       "      <th></th>\n",
       "      <th>id</th>\n",
       "      <th>Q</th>\n",
       "      <th>A</th>\n",
       "      <th>B</th>\n",
       "      <th>C</th>\n",
       "    </tr>\n",
       "  </thead>\n",
       "  <tbody>\n",
       "    <tr>\n",
       "      <th>0</th>\n",
       "      <td>ENSDARG00000000001</td>\n",
       "      <td>1.000000</td>\n",
       "      <td>0.915094</td>\n",
       "      <td>0.000000</td>\n",
       "      <td>0.849057</td>\n",
       "    </tr>\n",
       "    <tr>\n",
       "      <th>1</th>\n",
       "      <td>ENSDARG00000000002</td>\n",
       "      <td>0.574380</td>\n",
       "      <td>0.000000</td>\n",
       "      <td>1.000000</td>\n",
       "      <td>0.245868</td>\n",
       "    </tr>\n",
       "    <tr>\n",
       "      <th>2</th>\n",
       "      <td>ENSDARG00000000018</td>\n",
       "      <td>1.000000</td>\n",
       "      <td>0.000000</td>\n",
       "      <td>0.442540</td>\n",
       "      <td>0.005422</td>\n",
       "    </tr>\n",
       "    <tr>\n",
       "      <th>3</th>\n",
       "      <td>ENSDARG00000000019</td>\n",
       "      <td>0.876864</td>\n",
       "      <td>1.000000</td>\n",
       "      <td>0.000000</td>\n",
       "      <td>0.910899</td>\n",
       "    </tr>\n",
       "    <tr>\n",
       "      <th>4</th>\n",
       "      <td>ENSDARG00000000068</td>\n",
       "      <td>1.000000</td>\n",
       "      <td>0.742747</td>\n",
       "      <td>0.000000</td>\n",
       "      <td>0.239845</td>\n",
       "    </tr>\n",
       "    <tr>\n",
       "      <th>...</th>\n",
       "      <td>...</td>\n",
       "      <td>...</td>\n",
       "      <td>...</td>\n",
       "      <td>...</td>\n",
       "      <td>...</td>\n",
       "    </tr>\n",
       "    <tr>\n",
       "      <th>26106</th>\n",
       "      <td>XLOC_033107</td>\n",
       "      <td>1.000000</td>\n",
       "      <td>0.000000</td>\n",
       "      <td>0.725490</td>\n",
       "      <td>0.281046</td>\n",
       "    </tr>\n",
       "    <tr>\n",
       "      <th>26107</th>\n",
       "      <td>XLOC_033125</td>\n",
       "      <td>0.177554</td>\n",
       "      <td>1.000000</td>\n",
       "      <td>0.000000</td>\n",
       "      <td>0.520938</td>\n",
       "    </tr>\n",
       "    <tr>\n",
       "      <th>26108</th>\n",
       "      <td>XLOC_033134</td>\n",
       "      <td>1.000000</td>\n",
       "      <td>0.000000</td>\n",
       "      <td>0.267537</td>\n",
       "      <td>0.025557</td>\n",
       "    </tr>\n",
       "    <tr>\n",
       "      <th>26109</th>\n",
       "      <td>XLOC_033168</td>\n",
       "      <td>0.331384</td>\n",
       "      <td>1.000000</td>\n",
       "      <td>0.000000</td>\n",
       "      <td>0.581871</td>\n",
       "    </tr>\n",
       "    <tr>\n",
       "      <th>26110</th>\n",
       "      <td>XLOC_033170</td>\n",
       "      <td>0.517550</td>\n",
       "      <td>0.000000</td>\n",
       "      <td>1.000000</td>\n",
       "      <td>0.075137</td>\n",
       "    </tr>\n",
       "  </tbody>\n",
       "</table>\n",
       "<p>26111 rows × 5 columns</p>\n",
       "</div>"
      ],
      "text/plain": [
       "                       id         Q         A         B         C\n",
       "0      ENSDARG00000000001  1.000000  0.915094  0.000000  0.849057\n",
       "1      ENSDARG00000000002  0.574380  0.000000  1.000000  0.245868\n",
       "2      ENSDARG00000000018  1.000000  0.000000  0.442540  0.005422\n",
       "3      ENSDARG00000000019  0.876864  1.000000  0.000000  0.910899\n",
       "4      ENSDARG00000000068  1.000000  0.742747  0.000000  0.239845\n",
       "...                   ...       ...       ...       ...       ...\n",
       "26106         XLOC_033107  1.000000  0.000000  0.725490  0.281046\n",
       "26107         XLOC_033125  0.177554  1.000000  0.000000  0.520938\n",
       "26108         XLOC_033134  1.000000  0.000000  0.267537  0.025557\n",
       "26109         XLOC_033168  0.331384  1.000000  0.000000  0.581871\n",
       "26110         XLOC_033170  0.517550  0.000000  1.000000  0.075137\n",
       "\n",
       "[26111 rows x 5 columns]"
      ]
     },
     "execution_count": 26,
     "metadata": {},
     "output_type": "execute_result"
    }
   ],
   "source": [
    "data"
   ]
  },
  {
   "cell_type": "code",
   "execution_count": 29,
   "id": "dafce1b2",
   "metadata": {},
   "outputs": [],
   "source": [
    "import numpy as np"
   ]
  },
  {
   "cell_type": "code",
   "execution_count": 32,
   "id": "7f8f9851",
   "metadata": {},
   "outputs": [
    {
     "data": {
      "text/plain": [
       "(26111, 26111)"
      ]
     },
     "execution_count": 32,
     "metadata": {},
     "output_type": "execute_result"
    }
   ],
   "source": [
    "np.corrcoef(data_.T).shape"
   ]
  },
  {
   "cell_type": "code",
   "execution_count": 33,
   "id": "8ea967ce",
   "metadata": {},
   "outputs": [],
   "source": [
    "data_corr=np.corrcoef(data_.T)"
   ]
  },
  {
   "cell_type": "code",
   "execution_count": 35,
   "id": "e1c03a4d",
   "metadata": {},
   "outputs": [],
   "source": [
    "index_id=data[\"id\"].values"
   ]
  },
  {
   "cell_type": "code",
   "execution_count": 71,
   "id": "1c2dd7c0",
   "metadata": {},
   "outputs": [
    {
     "data": {
      "text/html": [
       "<div>\n",
       "<style scoped>\n",
       "    .dataframe tbody tr th:only-of-type {\n",
       "        vertical-align: middle;\n",
       "    }\n",
       "\n",
       "    .dataframe tbody tr th {\n",
       "        vertical-align: top;\n",
       "    }\n",
       "\n",
       "    .dataframe thead th {\n",
       "        text-align: right;\n",
       "    }\n",
       "</style>\n",
       "<table border=\"1\" class=\"dataframe\">\n",
       "  <thead>\n",
       "    <tr style=\"text-align: right;\">\n",
       "      <th></th>\n",
       "      <th>ENSDARG00000000001</th>\n",
       "      <th>ENSDARG00000000002</th>\n",
       "      <th>ENSDARG00000000018</th>\n",
       "      <th>ENSDARG00000000019</th>\n",
       "      <th>ENSDARG00000000068</th>\n",
       "      <th>ENSDARG00000000069</th>\n",
       "      <th>ENSDARG00000000086</th>\n",
       "      <th>ENSDARG00000000103</th>\n",
       "      <th>ENSDARG00000000142</th>\n",
       "      <th>ENSDARG00000000151</th>\n",
       "      <th>...</th>\n",
       "      <th>XLOC_032643</th>\n",
       "      <th>XLOC_032675</th>\n",
       "      <th>XLOC_032677</th>\n",
       "      <th>XLOC_032691</th>\n",
       "      <th>XLOC_032699</th>\n",
       "      <th>XLOC_033107</th>\n",
       "      <th>XLOC_033125</th>\n",
       "      <th>XLOC_033134</th>\n",
       "      <th>XLOC_033168</th>\n",
       "      <th>XLOC_033170</th>\n",
       "    </tr>\n",
       "  </thead>\n",
       "  <tbody>\n",
       "    <tr>\n",
       "      <th>ENSDARG00000000001</th>\n",
       "      <td>1.000000</td>\n",
       "      <td>-0.786533</td>\n",
       "      <td>0.006073</td>\n",
       "      <td>0.980033</td>\n",
       "      <td>0.805455</td>\n",
       "      <td>0.099570</td>\n",
       "      <td>0.956849</td>\n",
       "      <td>0.810296</td>\n",
       "      <td>0.937208</td>\n",
       "      <td>0.725846</td>\n",
       "      <td>...</td>\n",
       "      <td>0.205600</td>\n",
       "      <td>0.849404</td>\n",
       "      <td>-0.826385</td>\n",
       "      <td>0.806285</td>\n",
       "      <td>0.130299</td>\n",
       "      <td>-0.237517</td>\n",
       "      <td>0.588304</td>\n",
       "      <td>0.196756</td>\n",
       "      <td>0.711658</td>\n",
       "      <td>-0.806636</td>\n",
       "    </tr>\n",
       "    <tr>\n",
       "      <th>ENSDARG00000000002</th>\n",
       "      <td>-0.786533</td>\n",
       "      <td>1.000000</td>\n",
       "      <td>0.584829</td>\n",
       "      <td>-0.891143</td>\n",
       "      <td>-0.453063</td>\n",
       "      <td>0.212517</td>\n",
       "      <td>-0.632795</td>\n",
       "      <td>-0.306355</td>\n",
       "      <td>-0.567562</td>\n",
       "      <td>-0.153431</td>\n",
       "      <td>...</td>\n",
       "      <td>0.422678</td>\n",
       "      <td>-0.361247</td>\n",
       "      <td>0.960390</td>\n",
       "      <td>-0.973104</td>\n",
       "      <td>0.385094</td>\n",
       "      <td>0.785829</td>\n",
       "      <td>-0.949417</td>\n",
       "      <td>0.428387</td>\n",
       "      <td>-0.981349</td>\n",
       "      <td>0.985868</td>\n",
       "    </tr>\n",
       "    <tr>\n",
       "      <th>ENSDARG00000000018</th>\n",
       "      <td>0.006073</td>\n",
       "      <td>0.584829</td>\n",
       "      <td>1.000000</td>\n",
       "      <td>-0.191872</td>\n",
       "      <td>0.437192</td>\n",
       "      <td>0.710870</td>\n",
       "      <td>0.126692</td>\n",
       "      <td>0.587093</td>\n",
       "      <td>0.203939</td>\n",
       "      <td>0.612039</td>\n",
       "      <td>...</td>\n",
       "      <td>0.978913</td>\n",
       "      <td>0.532430</td>\n",
       "      <td>0.550362</td>\n",
       "      <td>-0.584712</td>\n",
       "      <td>0.932923</td>\n",
       "      <td>0.940136</td>\n",
       "      <td>-0.695042</td>\n",
       "      <td>0.981204</td>\n",
       "      <td>-0.598234</td>\n",
       "      <td>0.585902</td>\n",
       "    </tr>\n",
       "    <tr>\n",
       "      <th>ENSDARG00000000019</th>\n",
       "      <td>0.980033</td>\n",
       "      <td>-0.891143</td>\n",
       "      <td>-0.191872</td>\n",
       "      <td>1.000000</td>\n",
       "      <td>0.711958</td>\n",
       "      <td>-0.028993</td>\n",
       "      <td>0.908544</td>\n",
       "      <td>0.680284</td>\n",
       "      <td>0.873536</td>\n",
       "      <td>0.584697</td>\n",
       "      <td>...</td>\n",
       "      <td>0.007219</td>\n",
       "      <td>0.728574</td>\n",
       "      <td>-0.917898</td>\n",
       "      <td>0.905880</td>\n",
       "      <td>-0.049951</td>\n",
       "      <td>-0.423822</td>\n",
       "      <td>0.722909</td>\n",
       "      <td>-0.001627</td>\n",
       "      <td>0.823876</td>\n",
       "      <td>-0.907743</td>\n",
       "    </tr>\n",
       "    <tr>\n",
       "      <th>ENSDARG00000000068</th>\n",
       "      <td>0.805455</td>\n",
       "      <td>-0.453063</td>\n",
       "      <td>0.437192</td>\n",
       "      <td>0.711958</td>\n",
       "      <td>1.000000</td>\n",
       "      <td>0.669762</td>\n",
       "      <td>0.715830</td>\n",
       "      <td>0.931485</td>\n",
       "      <td>0.724256</td>\n",
       "      <td>0.716637</td>\n",
       "      <td>...</td>\n",
       "      <td>0.570750</td>\n",
       "      <td>0.921062</td>\n",
       "      <td>-0.387858</td>\n",
       "      <td>0.375287</td>\n",
       "      <td>0.644878</td>\n",
       "      <td>0.118975</td>\n",
       "      <td>0.336913</td>\n",
       "      <td>0.570446</td>\n",
       "      <td>0.459139</td>\n",
       "      <td>-0.401074</td>\n",
       "    </tr>\n",
       "    <tr>\n",
       "      <th>...</th>\n",
       "      <td>...</td>\n",
       "      <td>...</td>\n",
       "      <td>...</td>\n",
       "      <td>...</td>\n",
       "      <td>...</td>\n",
       "      <td>...</td>\n",
       "      <td>...</td>\n",
       "      <td>...</td>\n",
       "      <td>...</td>\n",
       "      <td>...</td>\n",
       "      <td>...</td>\n",
       "      <td>...</td>\n",
       "      <td>...</td>\n",
       "      <td>...</td>\n",
       "      <td>...</td>\n",
       "      <td>...</td>\n",
       "      <td>...</td>\n",
       "      <td>...</td>\n",
       "      <td>...</td>\n",
       "      <td>...</td>\n",
       "      <td>...</td>\n",
       "    </tr>\n",
       "    <tr>\n",
       "      <th>XLOC_033107</th>\n",
       "      <td>-0.237517</td>\n",
       "      <td>0.785829</td>\n",
       "      <td>0.940136</td>\n",
       "      <td>-0.423822</td>\n",
       "      <td>0.118975</td>\n",
       "      <td>0.478800</td>\n",
       "      <td>-0.050365</td>\n",
       "      <td>0.339738</td>\n",
       "      <td>0.032566</td>\n",
       "      <td>0.476705</td>\n",
       "      <td>...</td>\n",
       "      <td>0.882059</td>\n",
       "      <td>0.289463</td>\n",
       "      <td>0.697060</td>\n",
       "      <td>-0.735360</td>\n",
       "      <td>0.766118</td>\n",
       "      <td>1.000000</td>\n",
       "      <td>-0.894762</td>\n",
       "      <td>0.882949</td>\n",
       "      <td>-0.822625</td>\n",
       "      <td>0.751886</td>\n",
       "    </tr>\n",
       "    <tr>\n",
       "      <th>XLOC_033125</th>\n",
       "      <td>0.588304</td>\n",
       "      <td>-0.949417</td>\n",
       "      <td>-0.695042</td>\n",
       "      <td>0.722909</td>\n",
       "      <td>0.336913</td>\n",
       "      <td>-0.153882</td>\n",
       "      <td>0.370861</td>\n",
       "      <td>0.097238</td>\n",
       "      <td>0.296014</td>\n",
       "      <td>-0.128767</td>\n",
       "      <td>...</td>\n",
       "      <td>-0.579670</td>\n",
       "      <td>0.140332</td>\n",
       "      <td>-0.836352</td>\n",
       "      <td>0.866938</td>\n",
       "      <td>-0.437008</td>\n",
       "      <td>-0.894762</td>\n",
       "      <td>1.000000</td>\n",
       "      <td>-0.580680</td>\n",
       "      <td>0.986719</td>\n",
       "      <td>-0.894112</td>\n",
       "    </tr>\n",
       "    <tr>\n",
       "      <th>XLOC_033134</th>\n",
       "      <td>0.196756</td>\n",
       "      <td>0.428387</td>\n",
       "      <td>0.981204</td>\n",
       "      <td>-0.001627</td>\n",
       "      <td>0.570446</td>\n",
       "      <td>0.695563</td>\n",
       "      <td>0.314364</td>\n",
       "      <td>0.728052</td>\n",
       "      <td>0.386978</td>\n",
       "      <td>0.747628</td>\n",
       "      <td>...</td>\n",
       "      <td>0.999856</td>\n",
       "      <td>0.683237</td>\n",
       "      <td>0.379020</td>\n",
       "      <td>-0.417832</td>\n",
       "      <td>0.929415</td>\n",
       "      <td>0.882949</td>\n",
       "      <td>-0.580680</td>\n",
       "      <td>1.000000</td>\n",
       "      <td>-0.460939</td>\n",
       "      <td>0.420784</td>\n",
       "    </tr>\n",
       "    <tr>\n",
       "      <th>XLOC_033168</th>\n",
       "      <td>0.711658</td>\n",
       "      <td>-0.981349</td>\n",
       "      <td>-0.598234</td>\n",
       "      <td>0.823876</td>\n",
       "      <td>0.459139</td>\n",
       "      <td>-0.105441</td>\n",
       "      <td>0.512666</td>\n",
       "      <td>0.250034</td>\n",
       "      <td>0.443872</td>\n",
       "      <td>0.033974</td>\n",
       "      <td>...</td>\n",
       "      <td>-0.458405</td>\n",
       "      <td>0.294743</td>\n",
       "      <td>-0.889214</td>\n",
       "      <td>0.911942</td>\n",
       "      <td>-0.346940</td>\n",
       "      <td>-0.822625</td>\n",
       "      <td>0.986719</td>\n",
       "      <td>-0.460939</td>\n",
       "      <td>1.000000</td>\n",
       "      <td>-0.936091</td>\n",
       "    </tr>\n",
       "    <tr>\n",
       "      <th>XLOC_033170</th>\n",
       "      <td>-0.806636</td>\n",
       "      <td>0.985868</td>\n",
       "      <td>0.585902</td>\n",
       "      <td>-0.907743</td>\n",
       "      <td>-0.401074</td>\n",
       "      <td>0.327674</td>\n",
       "      <td>-0.695993</td>\n",
       "      <td>-0.310773</td>\n",
       "      <td>-0.634061</td>\n",
       "      <td>-0.221103</td>\n",
       "      <td>...</td>\n",
       "      <td>0.412503</td>\n",
       "      <td>-0.374006</td>\n",
       "      <td>0.993171</td>\n",
       "      <td>-0.997940</td>\n",
       "      <td>0.439973</td>\n",
       "      <td>0.751886</td>\n",
       "      <td>-0.894112</td>\n",
       "      <td>0.420784</td>\n",
       "      <td>-0.936091</td>\n",
       "      <td>1.000000</td>\n",
       "    </tr>\n",
       "  </tbody>\n",
       "</table>\n",
       "<p>26111 rows × 26111 columns</p>\n",
       "</div>"
      ],
      "text/plain": [
       "                    ENSDARG00000000001  ENSDARG00000000002  \\\n",
       "ENSDARG00000000001            1.000000           -0.786533   \n",
       "ENSDARG00000000002           -0.786533            1.000000   \n",
       "ENSDARG00000000018            0.006073            0.584829   \n",
       "ENSDARG00000000019            0.980033           -0.891143   \n",
       "ENSDARG00000000068            0.805455           -0.453063   \n",
       "...                                ...                 ...   \n",
       "XLOC_033107                  -0.237517            0.785829   \n",
       "XLOC_033125                   0.588304           -0.949417   \n",
       "XLOC_033134                   0.196756            0.428387   \n",
       "XLOC_033168                   0.711658           -0.981349   \n",
       "XLOC_033170                  -0.806636            0.985868   \n",
       "\n",
       "                    ENSDARG00000000018  ENSDARG00000000019  \\\n",
       "ENSDARG00000000001            0.006073            0.980033   \n",
       "ENSDARG00000000002            0.584829           -0.891143   \n",
       "ENSDARG00000000018            1.000000           -0.191872   \n",
       "ENSDARG00000000019           -0.191872            1.000000   \n",
       "ENSDARG00000000068            0.437192            0.711958   \n",
       "...                                ...                 ...   \n",
       "XLOC_033107                   0.940136           -0.423822   \n",
       "XLOC_033125                  -0.695042            0.722909   \n",
       "XLOC_033134                   0.981204           -0.001627   \n",
       "XLOC_033168                  -0.598234            0.823876   \n",
       "XLOC_033170                   0.585902           -0.907743   \n",
       "\n",
       "                    ENSDARG00000000068  ENSDARG00000000069  \\\n",
       "ENSDARG00000000001            0.805455            0.099570   \n",
       "ENSDARG00000000002           -0.453063            0.212517   \n",
       "ENSDARG00000000018            0.437192            0.710870   \n",
       "ENSDARG00000000019            0.711958           -0.028993   \n",
       "ENSDARG00000000068            1.000000            0.669762   \n",
       "...                                ...                 ...   \n",
       "XLOC_033107                   0.118975            0.478800   \n",
       "XLOC_033125                   0.336913           -0.153882   \n",
       "XLOC_033134                   0.570446            0.695563   \n",
       "XLOC_033168                   0.459139           -0.105441   \n",
       "XLOC_033170                  -0.401074            0.327674   \n",
       "\n",
       "                    ENSDARG00000000086  ENSDARG00000000103  \\\n",
       "ENSDARG00000000001            0.956849            0.810296   \n",
       "ENSDARG00000000002           -0.632795           -0.306355   \n",
       "ENSDARG00000000018            0.126692            0.587093   \n",
       "ENSDARG00000000019            0.908544            0.680284   \n",
       "ENSDARG00000000068            0.715830            0.931485   \n",
       "...                                ...                 ...   \n",
       "XLOC_033107                  -0.050365            0.339738   \n",
       "XLOC_033125                   0.370861            0.097238   \n",
       "XLOC_033134                   0.314364            0.728052   \n",
       "XLOC_033168                   0.512666            0.250034   \n",
       "XLOC_033170                  -0.695993           -0.310773   \n",
       "\n",
       "                    ENSDARG00000000142  ENSDARG00000000151  ...  XLOC_032643  \\\n",
       "ENSDARG00000000001            0.937208            0.725846  ...     0.205600   \n",
       "ENSDARG00000000002           -0.567562           -0.153431  ...     0.422678   \n",
       "ENSDARG00000000018            0.203939            0.612039  ...     0.978913   \n",
       "ENSDARG00000000019            0.873536            0.584697  ...     0.007219   \n",
       "ENSDARG00000000068            0.724256            0.716637  ...     0.570750   \n",
       "...                                ...                 ...  ...          ...   \n",
       "XLOC_033107                   0.032566            0.476705  ...     0.882059   \n",
       "XLOC_033125                   0.296014           -0.128767  ...    -0.579670   \n",
       "XLOC_033134                   0.386978            0.747628  ...     0.999856   \n",
       "XLOC_033168                   0.443872            0.033974  ...    -0.458405   \n",
       "XLOC_033170                  -0.634061           -0.221103  ...     0.412503   \n",
       "\n",
       "                    XLOC_032675  XLOC_032677  XLOC_032691  XLOC_032699  \\\n",
       "ENSDARG00000000001     0.849404    -0.826385     0.806285     0.130299   \n",
       "ENSDARG00000000002    -0.361247     0.960390    -0.973104     0.385094   \n",
       "ENSDARG00000000018     0.532430     0.550362    -0.584712     0.932923   \n",
       "ENSDARG00000000019     0.728574    -0.917898     0.905880    -0.049951   \n",
       "ENSDARG00000000068     0.921062    -0.387858     0.375287     0.644878   \n",
       "...                         ...          ...          ...          ...   \n",
       "XLOC_033107            0.289463     0.697060    -0.735360     0.766118   \n",
       "XLOC_033125            0.140332    -0.836352     0.866938    -0.437008   \n",
       "XLOC_033134            0.683237     0.379020    -0.417832     0.929415   \n",
       "XLOC_033168            0.294743    -0.889214     0.911942    -0.346940   \n",
       "XLOC_033170           -0.374006     0.993171    -0.997940     0.439973   \n",
       "\n",
       "                    XLOC_033107  XLOC_033125  XLOC_033134  XLOC_033168  \\\n",
       "ENSDARG00000000001    -0.237517     0.588304     0.196756     0.711658   \n",
       "ENSDARG00000000002     0.785829    -0.949417     0.428387    -0.981349   \n",
       "ENSDARG00000000018     0.940136    -0.695042     0.981204    -0.598234   \n",
       "ENSDARG00000000019    -0.423822     0.722909    -0.001627     0.823876   \n",
       "ENSDARG00000000068     0.118975     0.336913     0.570446     0.459139   \n",
       "...                         ...          ...          ...          ...   \n",
       "XLOC_033107            1.000000    -0.894762     0.882949    -0.822625   \n",
       "XLOC_033125           -0.894762     1.000000    -0.580680     0.986719   \n",
       "XLOC_033134            0.882949    -0.580680     1.000000    -0.460939   \n",
       "XLOC_033168           -0.822625     0.986719    -0.460939     1.000000   \n",
       "XLOC_033170            0.751886    -0.894112     0.420784    -0.936091   \n",
       "\n",
       "                    XLOC_033170  \n",
       "ENSDARG00000000001    -0.806636  \n",
       "ENSDARG00000000002     0.985868  \n",
       "ENSDARG00000000018     0.585902  \n",
       "ENSDARG00000000019    -0.907743  \n",
       "ENSDARG00000000068    -0.401074  \n",
       "...                         ...  \n",
       "XLOC_033107            0.751886  \n",
       "XLOC_033125           -0.894112  \n",
       "XLOC_033134            0.420784  \n",
       "XLOC_033168           -0.936091  \n",
       "XLOC_033170            1.000000  \n",
       "\n",
       "[26111 rows x 26111 columns]"
      ]
     },
     "execution_count": 71,
     "metadata": {},
     "output_type": "execute_result"
    }
   ],
   "source": [
    "pd.DataFrame(data_corr,columns=index_id,index=index_id)"
   ]
  },
  {
   "cell_type": "code",
   "execution_count": 40,
   "id": "5cb0d08d",
   "metadata": {},
   "outputs": [
    {
     "data": {
      "text/plain": [
       "array([[ 1.        , -0.7865326 ,  0.00607334, ...,  0.19675578,\n",
       "         0.71165763, -0.80663647],\n",
       "       [-0.7865326 ,  1.        ,  0.58482863, ...,  0.42838736,\n",
       "        -0.9813494 ,  0.98586771],\n",
       "       [ 0.00607334,  0.58482863,  1.        , ...,  0.98120416,\n",
       "        -0.59823449,  0.58590155],\n",
       "       ...,\n",
       "       [ 0.19675578,  0.42838736,  0.98120416, ...,  1.        ,\n",
       "        -0.46093895,  0.42078361],\n",
       "       [ 0.71165763, -0.9813494 , -0.59823449, ..., -0.46093895,\n",
       "         1.        , -0.93609093],\n",
       "       [-0.80663647,  0.98586771,  0.58590155, ...,  0.42078361,\n",
       "        -0.93609093,  1.        ]])"
      ]
     },
     "execution_count": 40,
     "metadata": {},
     "output_type": "execute_result"
    }
   ],
   "source": [
    "data_corr"
   ]
  },
  {
   "cell_type": "code",
   "execution_count": 42,
   "id": "2bc33f6d",
   "metadata": {},
   "outputs": [],
   "source": [
    "mask=np.tri(26111,k=-1)"
   ]
  },
  {
   "cell_type": "code",
   "execution_count": 44,
   "id": "00878ad0",
   "metadata": {},
   "outputs": [
    {
     "data": {
      "text/plain": [
       "array([-0.7865326 ,  0.00607334,  0.58482863, ..., -0.89411172,\n",
       "        0.42078361, -0.93609093])"
      ]
     },
     "execution_count": 44,
     "metadata": {},
     "output_type": "execute_result"
    }
   ],
   "source": [
    "mask=mask.astype(bool)\n",
    "\n",
    "data_corr[mask]"
   ]
  },
  {
   "cell_type": "code",
   "execution_count": 47,
   "id": "e7c11c79",
   "metadata": {},
   "outputs": [
    {
     "data": {
      "text/plain": [
       "340879105"
      ]
     },
     "execution_count": 47,
     "metadata": {},
     "output_type": "execute_result"
    }
   ],
   "source": [
    "mask.sum()"
   ]
  },
  {
   "cell_type": "code",
   "execution_count": 46,
   "id": "2d9ab910",
   "metadata": {},
   "outputs": [
    {
     "data": {
      "text/plain": [
       "(340879105,)"
      ]
     },
     "execution_count": 46,
     "metadata": {},
     "output_type": "execute_result"
    }
   ],
   "source": [
    "data_corr[mask].shape"
   ]
  },
  {
   "cell_type": "code",
   "execution_count": 48,
   "id": "9d8494bf",
   "metadata": {},
   "outputs": [],
   "source": [
    "data_corrmask=data_corr[mask]"
   ]
  },
  {
   "cell_type": "code",
   "execution_count": 49,
   "id": "d366e147",
   "metadata": {},
   "outputs": [
    {
     "data": {
      "text/plain": [
       "63080074"
      ]
     },
     "execution_count": 49,
     "metadata": {},
     "output_type": "execute_result"
    }
   ],
   "source": [
    "np.sum(data_corrmask>0.8)\n"
   ]
  },
  {
   "cell_type": "code",
   "execution_count": 50,
   "id": "5a387eea",
   "metadata": {},
   "outputs": [
    {
     "name": "stdout",
     "output_type": "stream",
     "text": [
      "0.18505116058668367\n"
     ]
    }
   ],
   "source": [
    "print(63080074/340879105)"
   ]
  },
  {
   "cell_type": "code",
   "execution_count": 51,
   "id": "cbfb7074",
   "metadata": {},
   "outputs": [
    {
     "data": {
      "text/plain": [
       "20607739"
      ]
     },
     "execution_count": 51,
     "metadata": {},
     "output_type": "execute_result"
    }
   ],
   "source": [
    "np.sum(data_corrmask<-0.8)"
   ]
  },
  {
   "cell_type": "code",
   "execution_count": 52,
   "id": "096bb312",
   "metadata": {},
   "outputs": [
    {
     "name": "stdout",
     "output_type": "stream",
     "text": [
      "0.060454685246841396\n"
     ]
    }
   ],
   "source": [
    "print(20607739/340879105)"
   ]
  },
  {
   "cell_type": "code",
   "execution_count": 53,
   "id": "8bc195dc",
   "metadata": {},
   "outputs": [],
   "source": [
    "#聚类\n",
    "from sklearn.cluster import KMeans "
   ]
  },
  {
   "cell_type": "code",
   "execution_count": 55,
   "id": "b3876020",
   "metadata": {},
   "outputs": [
    {
     "data": {
      "text/plain": [
       "(4, 26111)"
      ]
     },
     "execution_count": 55,
     "metadata": {},
     "output_type": "execute_result"
    }
   ],
   "source": [
    "data_.shape"
   ]
  },
  {
   "cell_type": "code",
   "execution_count": 58,
   "id": "2d399aa8",
   "metadata": {},
   "outputs": [],
   "source": [
    "data_kmeans=KMeans(n_clusters=30)"
   ]
  },
  {
   "cell_type": "code",
   "execution_count": 59,
   "id": "cd41b7fe",
   "metadata": {},
   "outputs": [
    {
     "name": "stderr",
     "output_type": "stream",
     "text": [
      "/Users/sunqian/anaconda3/envs/ICR/lib/python3.10/site-packages/sklearn/cluster/_kmeans.py:870: FutureWarning: The default value of `n_init` will change from 10 to 'auto' in 1.4. Set the value of `n_init` explicitly to suppress the warning\n",
      "  warnings.warn(\n"
     ]
    },
    {
     "data": {
      "text/html": [
       "<style>#sk-container-id-1 {color: black;background-color: white;}#sk-container-id-1 pre{padding: 0;}#sk-container-id-1 div.sk-toggleable {background-color: white;}#sk-container-id-1 label.sk-toggleable__label {cursor: pointer;display: block;width: 100%;margin-bottom: 0;padding: 0.3em;box-sizing: border-box;text-align: center;}#sk-container-id-1 label.sk-toggleable__label-arrow:before {content: \"▸\";float: left;margin-right: 0.25em;color: #696969;}#sk-container-id-1 label.sk-toggleable__label-arrow:hover:before {color: black;}#sk-container-id-1 div.sk-estimator:hover label.sk-toggleable__label-arrow:before {color: black;}#sk-container-id-1 div.sk-toggleable__content {max-height: 0;max-width: 0;overflow: hidden;text-align: left;background-color: #f0f8ff;}#sk-container-id-1 div.sk-toggleable__content pre {margin: 0.2em;color: black;border-radius: 0.25em;background-color: #f0f8ff;}#sk-container-id-1 input.sk-toggleable__control:checked~div.sk-toggleable__content {max-height: 200px;max-width: 100%;overflow: auto;}#sk-container-id-1 input.sk-toggleable__control:checked~label.sk-toggleable__label-arrow:before {content: \"▾\";}#sk-container-id-1 div.sk-estimator input.sk-toggleable__control:checked~label.sk-toggleable__label {background-color: #d4ebff;}#sk-container-id-1 div.sk-label input.sk-toggleable__control:checked~label.sk-toggleable__label {background-color: #d4ebff;}#sk-container-id-1 input.sk-hidden--visually {border: 0;clip: rect(1px 1px 1px 1px);clip: rect(1px, 1px, 1px, 1px);height: 1px;margin: -1px;overflow: hidden;padding: 0;position: absolute;width: 1px;}#sk-container-id-1 div.sk-estimator {font-family: monospace;background-color: #f0f8ff;border: 1px dotted black;border-radius: 0.25em;box-sizing: border-box;margin-bottom: 0.5em;}#sk-container-id-1 div.sk-estimator:hover {background-color: #d4ebff;}#sk-container-id-1 div.sk-parallel-item::after {content: \"\";width: 100%;border-bottom: 1px solid gray;flex-grow: 1;}#sk-container-id-1 div.sk-label:hover label.sk-toggleable__label {background-color: #d4ebff;}#sk-container-id-1 div.sk-serial::before {content: \"\";position: absolute;border-left: 1px solid gray;box-sizing: border-box;top: 0;bottom: 0;left: 50%;z-index: 0;}#sk-container-id-1 div.sk-serial {display: flex;flex-direction: column;align-items: center;background-color: white;padding-right: 0.2em;padding-left: 0.2em;position: relative;}#sk-container-id-1 div.sk-item {position: relative;z-index: 1;}#sk-container-id-1 div.sk-parallel {display: flex;align-items: stretch;justify-content: center;background-color: white;position: relative;}#sk-container-id-1 div.sk-item::before, #sk-container-id-1 div.sk-parallel-item::before {content: \"\";position: absolute;border-left: 1px solid gray;box-sizing: border-box;top: 0;bottom: 0;left: 50%;z-index: -1;}#sk-container-id-1 div.sk-parallel-item {display: flex;flex-direction: column;z-index: 1;position: relative;background-color: white;}#sk-container-id-1 div.sk-parallel-item:first-child::after {align-self: flex-end;width: 50%;}#sk-container-id-1 div.sk-parallel-item:last-child::after {align-self: flex-start;width: 50%;}#sk-container-id-1 div.sk-parallel-item:only-child::after {width: 0;}#sk-container-id-1 div.sk-dashed-wrapped {border: 1px dashed gray;margin: 0 0.4em 0.5em 0.4em;box-sizing: border-box;padding-bottom: 0.4em;background-color: white;}#sk-container-id-1 div.sk-label label {font-family: monospace;font-weight: bold;display: inline-block;line-height: 1.2em;}#sk-container-id-1 div.sk-label-container {text-align: center;}#sk-container-id-1 div.sk-container {/* jupyter's `normalize.less` sets `[hidden] { display: none; }` but bootstrap.min.css set `[hidden] { display: none !important; }` so we also need the `!important` here to be able to override the default hidden behavior on the sphinx rendered scikit-learn.org. See: https://github.com/scikit-learn/scikit-learn/issues/21755 */display: inline-block !important;position: relative;}#sk-container-id-1 div.sk-text-repr-fallback {display: none;}</style><div id=\"sk-container-id-1\" class=\"sk-top-container\"><div class=\"sk-text-repr-fallback\"><pre>KMeans(n_clusters=30)</pre><b>In a Jupyter environment, please rerun this cell to show the HTML representation or trust the notebook. <br />On GitHub, the HTML representation is unable to render, please try loading this page with nbviewer.org.</b></div><div class=\"sk-container\" hidden><div class=\"sk-item\"><div class=\"sk-estimator sk-toggleable\"><input class=\"sk-toggleable__control sk-hidden--visually\" id=\"sk-estimator-id-1\" type=\"checkbox\" checked><label for=\"sk-estimator-id-1\" class=\"sk-toggleable__label sk-toggleable__label-arrow\">KMeans</label><div class=\"sk-toggleable__content\"><pre>KMeans(n_clusters=30)</pre></div></div></div></div></div>"
      ],
      "text/plain": [
       "KMeans(n_clusters=30)"
      ]
     },
     "execution_count": 59,
     "metadata": {},
     "output_type": "execute_result"
    }
   ],
   "source": [
    "data_kmeans.fit(data_.T)"
   ]
  },
  {
   "cell_type": "code",
   "execution_count": 65,
   "id": "de8a7617",
   "metadata": {},
   "outputs": [
    {
     "data": {
      "text/plain": [
       "array([[0.51802489, 1.47748003, 0.92464821, ..., 0.10952487, 1.13105834,\n",
       "        0.75980219],\n",
       "       [1.53330382, 0.39767075, 1.13695214, ..., 1.54093881, 0.71814642,\n",
       "        1.32935833],\n",
       "       [1.47841306, 0.49557641, 0.57060753, ..., 1.35720267, 0.33657338,\n",
       "        0.92446375],\n",
       "       ...,\n",
       "       [1.42296382, 0.66343348, 0.45733611, ..., 1.29717854, 0.35528892,\n",
       "        0.86419203],\n",
       "       [0.38176412, 1.54396082, 1.0323006 , ..., 0.64695615, 1.29970716,\n",
       "        0.82242723],\n",
       "       [1.61412107, 0.43143017, 1.14921271, ..., 1.63163982, 0.79323854,\n",
       "        1.33925737]])"
      ]
     },
     "execution_count": 65,
     "metadata": {},
     "output_type": "execute_result"
    }
   ],
   "source": [
    "data_kmeans.transform(data_.T)"
   ]
  },
  {
   "cell_type": "code",
   "execution_count": 61,
   "id": "aee2a6c7",
   "metadata": {},
   "outputs": [
    {
     "data": {
      "text/plain": [
       "(26111, 30)"
      ]
     },
     "execution_count": 61,
     "metadata": {},
     "output_type": "execute_result"
    }
   ],
   "source": [
    "data_kmeans.transform(data_.T).shape"
   ]
  },
  {
   "cell_type": "code",
   "execution_count": 63,
   "id": "13f02ef5",
   "metadata": {},
   "outputs": [
    {
     "data": {
      "text/plain": [
       "array([27,  5,  7, ..., 21, 26,  5], dtype=int32)"
      ]
     },
     "execution_count": 63,
     "metadata": {},
     "output_type": "execute_result"
    }
   ],
   "source": [
    "data_kmeans.predict(data_.T)"
   ]
  },
  {
   "cell_type": "code",
   "execution_count": 68,
   "id": "c0715f04",
   "metadata": {},
   "outputs": [],
   "source": [
    "data[\"cluster_class\"]=data_kmeans.predict(data_.T)\n",
    "\n"
   ]
  },
  {
   "cell_type": "code",
   "execution_count": 64,
   "id": "fd9af06f",
   "metadata": {},
   "outputs": [
    {
     "data": {
      "text/plain": [
       "(26111,)"
      ]
     },
     "execution_count": 64,
     "metadata": {},
     "output_type": "execute_result"
    }
   ],
   "source": [
    "data_kmeans.predict(data_.T).shape"
   ]
  },
  {
   "cell_type": "code",
   "execution_count": 66,
   "id": "729fc110",
   "metadata": {},
   "outputs": [
    {
     "data": {
      "text/plain": [
       "array([[ 4.88111161e-01,  9.39560033e-01, -3.88578059e-16,\n",
       "         9.24694123e-01],\n",
       "       [ 9.39306032e-01,  2.88762514e-02,  9.21931472e-01,\n",
       "         1.11545019e-01],\n",
       "       [ 1.00000000e+00,  3.85895161e-01,  3.11085515e-02,\n",
       "         9.14585533e-02],\n",
       "       [ 5.05403908e-01,  1.00000000e+00,  4.49333695e-02,\n",
       "         1.30748915e-01],\n",
       "       [ 3.67558375e-02,  4.28899456e-02,  3.45725250e-02,\n",
       "         1.00000000e+00],\n",
       "       [ 5.45217705e-01,  4.81851979e-02,  1.00000000e+00,\n",
       "         9.62882554e-02],\n",
       "       [ 1.00000000e+00,  4.79336893e-01, -3.33066907e-16,\n",
       "         4.19336095e-01],\n",
       "       [ 1.00000000e+00,  7.50279700e-02,  5.27624171e-01,\n",
       "         3.29607894e-02],\n",
       "       [ 7.09166458e-01,  5.87101963e-01, -3.88578059e-16,\n",
       "         1.00000000e+00],\n",
       "       [ 8.48282938e-01,  9.06257946e-01,  6.62881605e-01,\n",
       "        -2.77555756e-16],\n",
       "       [ 1.09042822e-01,  1.38189401e-01,  9.08626429e-01,\n",
       "         8.19645145e-01],\n",
       "       [ 8.97385824e-02,  9.35378640e-01,  1.09923323e-01,\n",
       "         9.25651413e-01],\n",
       "       [ 9.76650269e-01,  1.13826774e-01,  5.10934654e-02,\n",
       "         8.43045913e-01],\n",
       "       [ 8.37054028e-02,  8.46496858e-01,  8.46216368e-01,\n",
       "         1.66187575e-01],\n",
       "       [ 5.54956028e-01,  1.00000000e+00, -3.88578059e-16,\n",
       "         5.67734668e-01],\n",
       "       [ 9.46430117e-01,  9.10267887e-01, -3.88578059e-16,\n",
       "         5.02005958e-01],\n",
       "       [ 8.90385064e-02,  6.72444306e-02,  1.00000000e+00,\n",
       "         7.79943721e-02],\n",
       "       [ 1.00000000e+00,  4.11051723e-01,  3.92242363e-01,\n",
       "         2.22044605e-16],\n",
       "       [ 9.03601759e-01,  3.91681203e-01,  9.11014484e-01,\n",
       "         0.00000000e+00],\n",
       "       [ 2.12916930e-01,  5.18539784e-01,  1.92889713e-02,\n",
       "         1.00000000e+00],\n",
       "       [ 8.83110012e-01, -5.55111512e-16,  8.34213779e-01,\n",
       "         7.32752478e-01],\n",
       "       [ 1.00000000e+00,  5.79398838e-02,  1.04676027e-01,\n",
       "         4.43551837e-02],\n",
       "       [ 6.52085149e-02,  1.00000000e+00,  5.79124300e-02,\n",
       "         8.92991055e-02],\n",
       "       [ 1.00000000e+00,  1.00095195e-01,  2.68130132e-02,\n",
       "         3.71441408e-01],\n",
       "       [ 5.28943866e-01,  8.42337364e-02,  9.43825111e-02,\n",
       "         1.00000000e+00],\n",
       "       [ 9.99700253e-01,  5.86613131e-01, -3.88578059e-16,\n",
       "         7.43966627e-01],\n",
       "       [ 1.59608669e-01,  1.00000000e+00,  2.51014947e-02,\n",
       "         5.07795158e-01],\n",
       "       [ 8.97680659e-01,  9.27366888e-01, -3.88578059e-16,\n",
       "         8.86148846e-01],\n",
       "       [ 1.00000000e+00, -7.77156117e-16,  4.29570842e-01,\n",
       "         3.41745846e-01],\n",
       "       [ 9.71641619e-01,  8.34518321e-01,  5.63115189e-02,\n",
       "         9.61743458e-02]])"
      ]
     },
     "execution_count": 66,
     "metadata": {},
     "output_type": "execute_result"
    }
   ],
   "source": [
    "data_kmeans.cluster_centers_"
   ]
  },
  {
   "cell_type": "code",
   "execution_count": 70,
   "id": "b615d4a8",
   "metadata": {},
   "outputs": [],
   "source": [
    "#聚类结果导出\n",
    "data.to_excel(\"data_cluster.xlsx\",index=None)\n"
   ]
  },
  {
   "cell_type": "code",
   "execution_count": null,
   "id": "cf7463af",
   "metadata": {},
   "outputs": [],
   "source": []
  }
 ],
 "metadata": {
  "kernelspec": {
   "display_name": "Python 3 (ipykernel)",
   "language": "python",
   "name": "python3"
  },
  "language_info": {
   "codemirror_mode": {
    "name": "ipython",
    "version": 3
   },
   "file_extension": ".py",
   "mimetype": "text/x-python",
   "name": "python",
   "nbconvert_exporter": "python",
   "pygments_lexer": "ipython3",
   "version": "3.10.9"
  }
 },
 "nbformat": 4,
 "nbformat_minor": 5
}
